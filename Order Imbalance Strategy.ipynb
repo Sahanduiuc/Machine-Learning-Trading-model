{
 "cells": [
  {
   "cell_type": "code",
   "execution_count": 37,
   "metadata": {
    "collapsed": false
   },
   "outputs": [],
   "source": [
    "import pandas as pd\n",
    "import numpy as np\n",
    "import itertools\n",
    "from sklearn import metrics\n",
    "from sklearn.ensemble import RandomForestClassifier\n",
    "from sklearn.metrics import accuracy_score\n",
    "from sklearn.metrics import f1_score\n",
    "import matplotlib.pyplot as plt\n",
    "from sklearn.metrics import confusion_matrix\n",
    "from sklearn.utils import shuffle\n",
    "from sklearn import metrics, svm, neighbors, linear_model, tree\n",
    "from sklearn.grid_search import GridSearchCV\n",
    "from sklearn.ensemble import RandomForestClassifier\n",
    "#Add composite features  \n",
    "#Confusion Matrix \n",
    "#Heat map \n",
    "\n",
    "#Fix classifier models \n",
    "#Linear regression\n",
    "#logistic regression"
   ]
  },
  {
   "cell_type": "code",
   "execution_count": 35,
   "metadata": {
    "collapsed": false
   },
   "outputs": [
    {
     "data": {
      "text/html": [
       "<div>\n",
       "<table border=\"1\" class=\"dataframe\">\n",
       "  <thead>\n",
       "    <tr style=\"text-align: right;\">\n",
       "      <th></th>\n",
       "      <th>Time</th>\n",
       "      <th>AskPrice</th>\n",
       "      <th>AskSize</th>\n",
       "      <th>BidPrice</th>\n",
       "      <th>BidSize</th>\n",
       "      <th>VOI</th>\n",
       "      <th>OIR</th>\n",
       "      <th>Spread</th>\n",
       "      <th>PriceChange</th>\n",
       "      <th>MPB</th>\n",
       "      <th>VOI_Norm</th>\n",
       "      <th>OIR_Norm</th>\n",
       "      <th>MPB_Norm</th>\n",
       "    </tr>\n",
       "  </thead>\n",
       "  <tbody>\n",
       "    <tr>\n",
       "      <th>0</th>\n",
       "      <td>2018-07-16 07:00:00-05:00</td>\n",
       "      <td>280325</td>\n",
       "      <td>118</td>\n",
       "      <td>280300</td>\n",
       "      <td>74</td>\n",
       "      <td>0</td>\n",
       "      <td>-0.229167</td>\n",
       "      <td>25</td>\n",
       "      <td>0</td>\n",
       "      <td>0.0</td>\n",
       "      <td>0.00</td>\n",
       "      <td>-0.009167</td>\n",
       "      <td>0.0</td>\n",
       "    </tr>\n",
       "    <tr>\n",
       "      <th>1</th>\n",
       "      <td>2018-07-16 07:00:00.100000-05:00</td>\n",
       "      <td>280300</td>\n",
       "      <td>85</td>\n",
       "      <td>280275</td>\n",
       "      <td>35</td>\n",
       "      <td>-85</td>\n",
       "      <td>-0.416667</td>\n",
       "      <td>25</td>\n",
       "      <td>-25</td>\n",
       "      <td>-12.5</td>\n",
       "      <td>-3.40</td>\n",
       "      <td>-0.016667</td>\n",
       "      <td>-0.5</td>\n",
       "    </tr>\n",
       "    <tr>\n",
       "      <th>2</th>\n",
       "      <td>2018-07-16 07:00:00.200000-05:00</td>\n",
       "      <td>280300</td>\n",
       "      <td>81</td>\n",
       "      <td>280275</td>\n",
       "      <td>49</td>\n",
       "      <td>18</td>\n",
       "      <td>-0.246154</td>\n",
       "      <td>25</td>\n",
       "      <td>0</td>\n",
       "      <td>0.0</td>\n",
       "      <td>0.72</td>\n",
       "      <td>-0.009846</td>\n",
       "      <td>0.0</td>\n",
       "    </tr>\n",
       "    <tr>\n",
       "      <th>3</th>\n",
       "      <td>2018-07-16 07:00:00.300000-05:00</td>\n",
       "      <td>280300</td>\n",
       "      <td>81</td>\n",
       "      <td>280275</td>\n",
       "      <td>49</td>\n",
       "      <td>0</td>\n",
       "      <td>-0.246154</td>\n",
       "      <td>25</td>\n",
       "      <td>0</td>\n",
       "      <td>0.0</td>\n",
       "      <td>0.00</td>\n",
       "      <td>-0.009846</td>\n",
       "      <td>0.0</td>\n",
       "    </tr>\n",
       "    <tr>\n",
       "      <th>4</th>\n",
       "      <td>2018-07-16 07:00:00.400000-05:00</td>\n",
       "      <td>280300</td>\n",
       "      <td>81</td>\n",
       "      <td>280275</td>\n",
       "      <td>49</td>\n",
       "      <td>0</td>\n",
       "      <td>-0.246154</td>\n",
       "      <td>25</td>\n",
       "      <td>0</td>\n",
       "      <td>0.0</td>\n",
       "      <td>0.00</td>\n",
       "      <td>-0.009846</td>\n",
       "      <td>0.0</td>\n",
       "    </tr>\n",
       "  </tbody>\n",
       "</table>\n",
       "</div>"
      ],
      "text/plain": [
       "                               Time  AskPrice  AskSize  BidPrice  BidSize  \\\n",
       "0         2018-07-16 07:00:00-05:00    280325      118    280300       74   \n",
       "1  2018-07-16 07:00:00.100000-05:00    280300       85    280275       35   \n",
       "2  2018-07-16 07:00:00.200000-05:00    280300       81    280275       49   \n",
       "3  2018-07-16 07:00:00.300000-05:00    280300       81    280275       49   \n",
       "4  2018-07-16 07:00:00.400000-05:00    280300       81    280275       49   \n",
       "\n",
       "   VOI       OIR  Spread  PriceChange   MPB  VOI_Norm  OIR_Norm  MPB_Norm  \n",
       "0    0 -0.229167      25            0   0.0      0.00 -0.009167       0.0  \n",
       "1  -85 -0.416667      25          -25 -12.5     -3.40 -0.016667      -0.5  \n",
       "2   18 -0.246154      25            0   0.0      0.72 -0.009846       0.0  \n",
       "3    0 -0.246154      25            0   0.0      0.00 -0.009846       0.0  \n",
       "4    0 -0.246154      25            0   0.0      0.00 -0.009846       0.0  "
      ]
     },
     "execution_count": 35,
     "metadata": {},
     "output_type": "execute_result"
    }
   ],
   "source": [
    "df  =  pd.read_csv (\"Data.csv\")\n",
    "df=df.rename(columns = {'0':'Instrument', '1':'Bid', '2':'Ask'})\n",
    "df.head()"
   ]
  },
  {
   "cell_type": "code",
   "execution_count": 38,
   "metadata": {
    "collapsed": false
   },
   "outputs": [],
   "source": [
    "Y = ['Instrument']\n",
    "attributes = ['VOI', 'OIR', 'Bid', 'Spread', 'PriceChange', 'MPB' , 'VOI_Norm' , 'OIR_Norm' , 'MPB_Norm']\n",
    "#Calculate each attribute and output into .csv file\n",
    "X = [attributes]\n",
    "groups = ['subject']\n",
    "#Split data into testing and training sets to prevent overfitting\n",
    "#Adjust features and perform calculations\n",
    "#Remember to output the data and not just use comments in this code"
   ]
  },
  {
   "cell_type": "code",
   "execution_count": 39,
   "metadata": {
    "collapsed": false
   },
   "outputs": [],
   "source": [
    "#This is when we need to start to split the data set 49/49~\n",
    "#First make sure that the number of lines in the data are equal"
   ]
  },
  {
   "cell_type": "code",
   "execution_count": 40,
   "metadata": {
    "collapsed": true
   },
   "outputs": [],
   "source": [
    "def run(pram, X_train, y_train, X_test, y_test):\n",
    "    classifier = RandomForestClassifier(n_estimators=pram)\n",
    "    classifier.fit(X_train, y_train)\n",
    "    score = classifier.score(X_test, y_test)\n",
    "    #print(\"Prediction accuracy for\", model[2], \"model is\", score)\n",
    "    expected = y_test\n",
    "    predicted = classifier.predict(X_test)\n",
    "\n",
    "    print(\"Classification report for classifier %s:\\n%s\\n\"\n",
    "      % (classifier, metrics.classification_report(expected, predicted, digits=5)))\n",
    "    #Compute confusion matrix\n",
    "    cnf_matrix = confusion_matrix(expected, predicted)\n",
    "    np.set_printoptions(precision=2)\n",
    "\n",
    "    # Plot non-normalized confusion matrix\n",
    "    plt.figure()\n",
    "    plot_confusion_matrix(cnf_matrix, classes=class_names,\n",
    "    title='Confusion matrix, without normalization: Random Forest')\n",
    "\n",
    "    plt.show()\n",
    "    \n",
    "    return metrics.accuracy_score(expected,predicted)"
   ]
  },
  {
   "cell_type": "code",
   "execution_count": 44,
   "metadata": {
    "collapsed": false
   },
   "outputs": [],
   "source": [
    "def  plot_clip  (clip, title):\n",
    "    t = range(len(clip))\n",
    "    plt.hold('on')\n",
    "    plt.plot(t, [i[0] for i in clip], t, [i[1] for i in clip], t, [i[2] for i in clip])\n",
    "    plt.legend(['x', 'y', 'z'])\n",
    "    plt.xlabel('time, ms')\n",
    "    plt.ylabel('acceleration, m/s2')\n",
    "    plt.title(title)\n",
    "    plt.hold('off')"
   ]
  },
  {
   "cell_type": "code",
   "execution_count": 45,
   "metadata": {
    "collapsed": true
   },
   "outputs": [],
   "source": [
    "def conf_mat(prob_arr, input_arr):\n",
    "        # confusion matrix\n",
    "        conf_arr = [[0, 0], [0, 0]]\n",
    "\n",
    "        for i in range(len(prob_arr)):\n",
    "                if int(input_arr[i]) == 1:\n",
    "                        if float(prob_arr[i]) < 0.5:\n",
    "                                conf_arr[0][1] = conf_arr[0][1] + 1\n",
    "                        else:\n",
    "                                conf_arr[0][0] = conf_arr[0][0] + 1\n",
    "                elif int(input_arr[i]) == 2:\n",
    "                        if float(prob_arr[i]) >= 0.5:\n",
    "                                conf_arr[1][0] = conf_arr[1][0] +1\n",
    "                        else:\n",
    "                                conf_arr[1][1] = conf_arr[1][1] +1\n",
    "\n",
    "        accuracy = float(conf_arr[0][0] + conf_arr[1][1])/(len(input_arr))"
   ]
  },
  {
   "cell_type": "code",
   "execution_count": 32,
   "metadata": {
    "collapsed": false
   },
   "outputs": [
    {
     "data": {
      "text/plain": [
       "array([[3, 0, 0],\n",
       "       [0, 1, 2],\n",
       "       [2, 1, 3]])"
      ]
     },
     "execution_count": 32,
     "metadata": {},
     "output_type": "execute_result"
    }
   ],
   "source": [
    "from sklearn.metrics import confusion_matrix\n",
    "y_actu = [2, 0, 2, 2, 0, 1, 1, 2, 2, 0, 1, 2]\n",
    "y_pred = [0, 0, 2, 1, 0, 2, 1, 0, 2, 0, 2, 2]\n",
    "confusion_matrix(y_actu, y_pred)"
   ]
  },
  {
   "cell_type": "code",
   "execution_count": 33,
   "metadata": {
    "collapsed": false
   },
   "outputs": [
    {
     "data": {
      "text/plain": [
       "<matplotlib.figure.Figure at 0x9f042b0>"
      ]
     },
     "execution_count": 33,
     "metadata": {},
     "output_type": "execute_result"
    }
   ],
   "source": [
    "import pandas as pd\n",
    "import matplotlib.pyplot as plt\n",
    "array = [[33,2,0,0,0,0,0,0,0,1,3], \n",
    "        [3,31,0,0,0,0,0,0,0,0,0], \n",
    "        [0,4,41,0,0,0,0,0,0,0,1], \n",
    "        [0,1,0,30,0,6,0,0,0,0,1], \n",
    "        [0,0,0,0,38,10,0,0,0,0,0], \n",
    "        [0,0,0,3,1,39,0,0,0,0,4], \n",
    "        [0,2,2,0,4,1,31,0,0,0,2],\n",
    "        [0,1,0,0,0,0,0,36,0,2,0], \n",
    "        [0,0,0,0,0,0,1,5,37,5,1], \n",
    "        [3,0,0,0,0,0,0,0,0,39,0], \n",
    "        [0,0,0,0,0,0,0,0,0,0,38]]\n",
    "df_cm = pd.DataFrame(array, index = [i for i in \"ABCDEFGHIJK\"],\n",
    "                  columns = [i for i in \"ABCDEFGHIJK\"])\n",
    "plt.figure(figsize = (10,7))"
   ]
  },
  {
   "cell_type": "code",
   "execution_count": null,
   "metadata": {
    "collapsed": true
   },
   "outputs": [],
   "source": [
    "#Implement SVM, logistic regression for stationarity inputs, and Random Forest classifier models\n",
    "#Calculate volume, order ratio, and mid-price and output them in Excel spreadsheets properly"
   ]
  },
  {
   "cell_type": "code",
   "execution_count": null,
   "metadata": {
    "collapsed": false
   },
   "outputs": [],
   "source": [
    "import numpy as np\n",
    "from sklearn import datasets, metrics, grid_search, svm\n",
    "from sklearn.linear_model import LogisticRegression\n",
    "classifier = svm.SVC(gamma=0.001)\n",
    "from sklearn.grid_search import GridSearchCV\n",
    "\n",
    "\n",
    "\n",
    " \n",
    "# Load digits data from 'datasets module'\n",
    "digits = datasets.load_digits()\n",
    "c = 10.0**np.arange(-5,5)\n",
    "n_samples = np.round(len(digits.data)/2)\n",
    "parameters = {'C':c,}\n",
    "\n",
    "#   Get data-records and record-labels in arrays X and y\n",
    "X_training=digits.data[:n_samples]\n",
    "y_training=digits.target[:n_samples]\n",
    "\n",
    "#   Get data-records and record-labels in arrays X and y\n",
    "X_testing=digits.data[n_samples:]\n",
    "y_testing=digits.target[n_samples:]\n",
    "\n",
    "svr = LogisticRegression(penalty='l1')\n",
    "\n",
    "# Create an instance of KNeighborsClassifier and then fit training data\n",
    "clf = grid_search.GridSearchCV(svr, parameters)\n",
    "\n",
    "#clf = LogisticRegression(C=1.0, dual=False, fit_intercept=True,intercept_scaling=1, penalty='l2', tol=0.0001)\n",
    "clf.fit(X_training, y_training)\n",
    "\n",
    "# Make class predictions for all observations in X_testing\n",
    "Z = clf.predict(X_testing)\n",
    "\n",
    "# Compare predicted class labels with actual class labels\n",
    "accuracy=clf.score(X_testing,y_testing)\n",
    "print (\"Predicted model accuracy: \"+ str(accuracy))\n",
    "print (clf.best_params_['C'])\n",
    "print (clf.get_params())"
   ]
  },
  {
   "cell_type": "code",
   "execution_count": null,
   "metadata": {
    "collapsed": false
   },
   "outputs": [],
   "source": [
    "c = 10.0**np.arange(-5,5)\n",
    "g = 10.0**np.arange(-5,5)\n",
    "#c = np.arange(10)+2\n",
    " \n",
    "# Load digits data from 'datasets module'\n",
    "digits = datasets.load_digits()\n",
    "svr = svm.SVC(kernel='rbf')\n",
    "parameters = {'C':c, 'gamma': g}\n",
    "\n",
    "n_samples = np.round(len(digits.data)/2)\n",
    "\n",
    "#   Get data-records and record-labels in arrays X and y\n",
    "X_training=digits.data[:n_samples]\n",
    "y_training=digits.target[:n_samples]\n",
    "\n",
    "#   Get data-records and record-labels in arrays X and y\n",
    "X_testing=digits.data[n_samples:]\n",
    "y_testing=digits.target[n_samples:]\n",
    "\n",
    "#clf = grid_search.GridSearchCV(knearest, parameters, cv=10)\n",
    "clf = grid_search.GridSearchCV(svr, parameters)\n",
    "\n",
    "#clf = svm.SVC(kernel='poly', gamma=1) \n",
    "clf.fit(X_training, y_training)\n",
    "\n",
    "# Make class predictions for all observations in X_testing\n",
    "Z = clf.predict(X_testing)\n",
    "\n",
    "# Compare predicted class labels with actual class labels\n",
    "accuracy=clf.score(X_testing,y_testing)\n",
    "print (\"Predicted model accuracy: \"+ str(accuracy))\n",
    "print (clf.best_params_['C'])\n",
    "print (clf.best_params_['gamma'])\n",
    "print (clf.get_params())\n",
    "print (cross_validation.cross_val_score(clf, X_testing, y_testing))"
   ]
  },
  {
   "cell_type": "code",
   "execution_count": null,
   "metadata": {
    "collapsed": true
   },
   "outputs": [],
   "source": [
    "#Implement forecasting/windowing function (k) based on data to predict future performance"
   ]
  },
  {
   "cell_type": "code",
   "execution_count": null,
   "metadata": {
    "collapsed": true
   },
   "outputs": [],
   "source": []
  }
 ],
 "metadata": {
  "kernelspec": {
   "display_name": "Python 3",
   "language": "python",
   "name": "python3"
  },
  "language_info": {
   "codemirror_mode": {
    "name": "ipython",
    "version": 3
   },
   "file_extension": ".py",
   "mimetype": "text/x-python",
   "name": "python",
   "nbconvert_exporter": "python",
   "pygments_lexer": "ipython3",
   "version": "3.4.4"
  }
 },
 "nbformat": 4,
 "nbformat_minor": 0
}
